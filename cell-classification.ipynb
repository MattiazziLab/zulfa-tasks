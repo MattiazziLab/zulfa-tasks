{
 "cells": [
  {
   "cell_type": "code",
   "execution_count": 1,
   "id": "24c984c6-2651-45fb-82f4-5514e3670a43",
   "metadata": {},
   "outputs": [],
   "source": [
    "import tensorflow as tf\n",
    "import matplotlib.pyplot as plt\n",
    "from tensorflow.keras.utils import to_categorical\n",
    "from tensorflow.keras.models import Sequential\n",
    "from tensorflow.keras.layers import Conv2D, MaxPooling2D, Dense, Flatten, Dropout\n",
    "from tensorflow.keras.optimizers import SGD\n",
    "from keras.preprocessing.image import ImageDataGenerator\n",
    "import shutil\n",
    "import numpy as np\n",
    "import pandas as pd\n",
    "import glob\n",
    "import math \n",
    "import random\n",
    "import cv2"
   ]
  },
  {
   "cell_type": "code",
   "execution_count": 2,
   "id": "0f7ebe1d-5de1-4382-95b2-7633e08a03bb",
   "metadata": {},
   "outputs": [
    {
     "data": {
      "text/html": [
       "<div>\n",
       "<style scoped>\n",
       "    .dataframe tbody tr th:only-of-type {\n",
       "        vertical-align: middle;\n",
       "    }\n",
       "\n",
       "    .dataframe tbody tr th {\n",
       "        vertical-align: top;\n",
       "    }\n",
       "\n",
       "    .dataframe thead th {\n",
       "        text-align: right;\n",
       "    }\n",
       "</style>\n",
       "<table border=\"1\" class=\"dataframe\">\n",
       "  <thead>\n",
       "    <tr style=\"text-align: right;\">\n",
       "      <th></th>\n",
       "      <th>Image Path</th>\n",
       "      <th>Initial Label</th>\n",
       "      <th>Manual label</th>\n",
       "      <th>Class</th>\n",
       "    </tr>\n",
       "  </thead>\n",
       "  <tbody>\n",
       "    <tr>\n",
       "      <th>0</th>\n",
       "      <td>C:/Users/zmvar/Documents/GitHub/cell-cycle/HAP...</td>\n",
       "      <td>not G2</td>\n",
       "      <td>bad</td>\n",
       "      <td>bad</td>\n",
       "    </tr>\n",
       "    <tr>\n",
       "      <th>1</th>\n",
       "      <td>C:/Users/zmvar/Documents/GitHub/cell-cycle/HAP...</td>\n",
       "      <td>not G2</td>\n",
       "      <td>bad</td>\n",
       "      <td>bad</td>\n",
       "    </tr>\n",
       "    <tr>\n",
       "      <th>2</th>\n",
       "      <td>C:/Users/zmvar/Documents/GitHub/cell-cycle/HAP...</td>\n",
       "      <td>not G2</td>\n",
       "      <td>bad</td>\n",
       "      <td>bad</td>\n",
       "    </tr>\n",
       "    <tr>\n",
       "      <th>3</th>\n",
       "      <td>C:/Users/zmvar/Documents/GitHub/cell-cycle/HAP...</td>\n",
       "      <td>not G2</td>\n",
       "      <td>bad</td>\n",
       "      <td>bad</td>\n",
       "    </tr>\n",
       "    <tr>\n",
       "      <th>4</th>\n",
       "      <td>C:/Users/zmvar/Documents/GitHub/cell-cycle/HAP...</td>\n",
       "      <td>not G2</td>\n",
       "      <td>apop</td>\n",
       "      <td>bad</td>\n",
       "    </tr>\n",
       "  </tbody>\n",
       "</table>\n",
       "</div>"
      ],
      "text/plain": [
       "                                          Image Path Initial Label  \\\n",
       "0  C:/Users/zmvar/Documents/GitHub/cell-cycle/HAP...        not G2   \n",
       "1  C:/Users/zmvar/Documents/GitHub/cell-cycle/HAP...        not G2   \n",
       "2  C:/Users/zmvar/Documents/GitHub/cell-cycle/HAP...        not G2   \n",
       "3  C:/Users/zmvar/Documents/GitHub/cell-cycle/HAP...        not G2   \n",
       "4  C:/Users/zmvar/Documents/GitHub/cell-cycle/HAP...        not G2   \n",
       "\n",
       "  Manual label Class  \n",
       "0          bad   bad  \n",
       "1          bad   bad  \n",
       "2          bad   bad  \n",
       "3          bad   bad  \n",
       "4         apop   bad  "
      ]
     },
     "execution_count": 2,
     "metadata": {},
     "output_type": "execute_result"
    }
   ],
   "source": [
    "#load datasets\n",
    "\n",
    "mutant = pd.read_csv('Downloads/mutant_notG2_full.csv')\n",
    "wt = pd.read_csv('Downloads/wt_notG2_full.csv')\n",
    "\n",
    "mutant.head()"
   ]
  },
  {
   "cell_type": "code",
   "execution_count": 3,
   "id": "60a615e7-b9eb-465e-bf8e-32509e41f124",
   "metadata": {},
   "outputs": [
    {
     "name": "stdout",
     "output_type": "stream",
     "text": [
      "3428 2774\n"
     ]
    }
   ],
   "source": [
    "#replace to interphase and non-interphase classes\n",
    "\"\"\"\n",
    "mutant[\"Class\"].replace({\"M phase\": \"non-interphase\", \"prophase\": \"non-interphase\", \"bad\":\"non-interphase\"}, inplace=True)\n",
    "wt[\"Class\"].replace({\"M phase\": \"non-interphase\", \"prophase\": \"non-interphase\", \"bad\":\"non-interphase\"}, inplace=True)\"\"\"\n",
    "\n",
    "print(len(wt.index), len(mutant.index))"
   ]
  },
  {
   "cell_type": "code",
   "execution_count": 4,
   "id": "736801bb-18f3-4d37-9465-36bff5e4210e",
   "metadata": {},
   "outputs": [
    {
     "data": {
      "text/plain": [
       "interphase    2706\n",
       "M phase         27\n",
       "bad             22\n",
       "prophase        19\n",
       "Name: Class, dtype: int64"
      ]
     },
     "execution_count": 4,
     "metadata": {},
     "output_type": "execute_result"
    }
   ],
   "source": [
    "mutant['Class'].value_counts()"
   ]
  },
  {
   "cell_type": "code",
   "execution_count": 5,
   "id": "a40a75d5-3626-42a9-848a-76647d86db84",
   "metadata": {},
   "outputs": [
    {
     "data": {
      "text/plain": [
       "interphase    3327\n",
       "bad             41\n",
       "M phase         39\n",
       "prophase        21\n",
       "Name: Class, dtype: int64"
      ]
     },
     "execution_count": 5,
     "metadata": {},
     "output_type": "execute_result"
    }
   ],
   "source": [
    "wt['Class'].value_counts()"
   ]
  },
  {
   "cell_type": "code",
   "execution_count": 6,
   "id": "769eac2c-e8b0-472b-81e8-8cead636b407",
   "metadata": {},
   "outputs": [
    {
     "data": {
      "text/html": [
       "<div>\n",
       "<style scoped>\n",
       "    .dataframe tbody tr th:only-of-type {\n",
       "        vertical-align: middle;\n",
       "    }\n",
       "\n",
       "    .dataframe tbody tr th {\n",
       "        vertical-align: top;\n",
       "    }\n",
       "\n",
       "    .dataframe thead th {\n",
       "        text-align: right;\n",
       "    }\n",
       "</style>\n",
       "<table border=\"1\" class=\"dataframe\">\n",
       "  <thead>\n",
       "    <tr style=\"text-align: right;\">\n",
       "      <th></th>\n",
       "      <th>Image Path</th>\n",
       "      <th>Initial Label</th>\n",
       "      <th>Manual Label</th>\n",
       "      <th>Class</th>\n",
       "    </tr>\n",
       "  </thead>\n",
       "  <tbody>\n",
       "    <tr>\n",
       "      <th>0</th>\n",
       "      <td>C:/Users/zmvar/Documents/GitHub/cell-cycle/HAP...</td>\n",
       "      <td>not G2</td>\n",
       "      <td>bad?? meta??</td>\n",
       "      <td>bad</td>\n",
       "    </tr>\n",
       "    <tr>\n",
       "      <th>1</th>\n",
       "      <td>C:/Users/zmvar/Documents/GitHub/cell-cycle/HAP...</td>\n",
       "      <td>not G2</td>\n",
       "      <td>bad (folded)</td>\n",
       "      <td>bad</td>\n",
       "    </tr>\n",
       "    <tr>\n",
       "      <th>2</th>\n",
       "      <td>C:/Users/zmvar/Documents/GitHub/cell-cycle/HAP...</td>\n",
       "      <td>not G2</td>\n",
       "      <td>bad</td>\n",
       "      <td>bad</td>\n",
       "    </tr>\n",
       "    <tr>\n",
       "      <th>3</th>\n",
       "      <td>C:/Users/zmvar/Documents/GitHub/cell-cycle/HAP...</td>\n",
       "      <td>not G2</td>\n",
       "      <td>bad?? meta??</td>\n",
       "      <td>bad</td>\n",
       "    </tr>\n",
       "    <tr>\n",
       "      <th>4</th>\n",
       "      <td>C:/Users/zmvar/Documents/GitHub/cell-cycle/HAP...</td>\n",
       "      <td>not G2</td>\n",
       "      <td>apop</td>\n",
       "      <td>bad</td>\n",
       "    </tr>\n",
       "  </tbody>\n",
       "</table>\n",
       "</div>"
      ],
      "text/plain": [
       "                                          Image Path Initial Label  \\\n",
       "0  C:/Users/zmvar/Documents/GitHub/cell-cycle/HAP...        not G2   \n",
       "1  C:/Users/zmvar/Documents/GitHub/cell-cycle/HAP...        not G2   \n",
       "2  C:/Users/zmvar/Documents/GitHub/cell-cycle/HAP...        not G2   \n",
       "3  C:/Users/zmvar/Documents/GitHub/cell-cycle/HAP...        not G2   \n",
       "4  C:/Users/zmvar/Documents/GitHub/cell-cycle/HAP...        not G2   \n",
       "\n",
       "   Manual Label Class  \n",
       "0  bad?? meta??   bad  \n",
       "1  bad (folded)   bad  \n",
       "2           bad   bad  \n",
       "3  bad?? meta??   bad  \n",
       "4          apop   bad  "
      ]
     },
     "execution_count": 6,
     "metadata": {},
     "output_type": "execute_result"
    }
   ],
   "source": [
    "wt.head()"
   ]
  },
  {
   "cell_type": "code",
   "execution_count": 12,
   "id": "64c80b51-b688-4fae-869e-c019d49d4ea7",
   "metadata": {},
   "outputs": [
    {
     "name": "stdout",
     "output_type": "stream",
     "text": [
      "done!\n"
     ]
    }
   ],
   "source": [
    "#separate images to folder\n",
    "\n",
    "files = list(glob.glob('Z:/cell classifier/test_run/images'+\"/*.bmp\"))\n",
    "fname = []\n",
    "\n",
    "for i in range(len(files)):\n",
    "    fname.append(files[i].split('\\\\')[1])\n",
    "\n",
    "for i in range(0, len(wt.index)):\n",
    "    im = wt['Image Path'][i]\n",
    "    fold = wt['Class'][i]\n",
    "    name = wt['Image Path'][i].split('/')[9]\n",
    "    old = 'Z:/cell classifier/test_run/images/'+name\n",
    "    if name in fname:\n",
    "        new = 'Z:/cell classifier/test_run/images/'+fold\n",
    "        shutil.move(old, new)\n",
    "print('done!')"
   ]
  },
  {
   "cell_type": "code",
   "execution_count": 13,
   "id": "559785d6-c95a-4509-a797-34b770f6e674",
   "metadata": {},
   "outputs": [
    {
     "name": "stdout",
     "output_type": "stream",
     "text": [
      "done\n"
     ]
    }
   ],
   "source": [
    "for i in range(0, len(mutant.index)):\n",
    "    im = mutant['Image Path'][i]\n",
    "    fold = mutant['Class'][i]\n",
    "    name = mutant['Image Path'][i].split('/')[9]\n",
    "    old = 'Z:/cell classifier/test_run/images/'+name\n",
    "    if name in fname:\n",
    "        new = 'Z:/cell classifier/test_run/images/'+fold\n",
    "        shutil.move(old, new)\n",
    "print('done')"
   ]
  },
  {
   "cell_type": "code",
   "execution_count": 14,
   "id": "023078f1-eb9a-4ddf-a338-54e7079ca4f7",
   "metadata": {},
   "outputs": [
    {
     "name": "stdout",
     "output_type": "stream",
     "text": [
      "369 74 98 59\n"
     ]
    }
   ],
   "source": [
    "inter = list(glob.glob('Z:/cell classifier/test_run/images/interphase'+\"/*.bmp\"))\n",
    "bad = list(glob.glob('Z:/cell classifier/test_run/images/bad'+\"/*.bmp\"))\n",
    "mphase = list(glob.glob('Z:/cell classifier/test_run/images/M phase'+\"/*.bmp\"))\n",
    "pro = list(glob.glob('Z:/cell classifier/test_run/images/prophase'+\"/*.bmp\"))\n",
    "\n",
    "print(len(inter), len(bad), len(mphase), len(pro))"
   ]
  },
  {
   "cell_type": "code",
   "execution_count": null,
   "id": "207ebdbd-b87f-4c8a-bb4c-784351aae079",
   "metadata": {},
   "outputs": [],
   "source": [
    "#questions:\n",
    "# 1) do we want to put new column for type, and concat the mutant and wildtype dataset\n",
    "# 2) should I use an SVG or CNN for classification\n",
    "# 3) make each class equal to interphase count\n",
    "# 4) distinguish interphase and non-interphase"
   ]
  },
  {
   "cell_type": "code",
   "execution_count": null,
   "id": "c9d65719-b562-4710-9ed9-212230cec056",
   "metadata": {},
   "outputs": [],
   "source": [
    "#to-do:\n",
    "# 1) download full csv files and concat them\n",
    "# 2) split test and training set\n",
    "# 3) separate classes into folders\n",
    "# 4) apply augmentation + standardization - make classes equal to interphase\n",
    "# 5) covert images to numpy arrays\n",
    "# 6) https://www.analyticsvidhya.com/blog/2021/07/step-by-step-guide-for-image-classification-on-custom-datasets/\n",
    "# 7) build model\n",
    "# 8) test"
   ]
  },
  {
   "cell_type": "code",
   "execution_count": 2,
   "id": "7dc3477b-f8c7-42f7-9965-9cb582e691cd",
   "metadata": {},
   "outputs": [],
   "source": [
    "path = 'Z:/cell classifier/test_run/'\n",
    "groups = ['interphase', 'bad', 'M phase', 'prophase']\n",
    "train_dir =path+\"images/train/\"\n",
    "test_dir = path+\"images/test/\"\n",
    "export_dir = path+\"data/\" # directory for data export\n",
    "model_name = \"Model1\" # name of output model w/o extension"
   ]
  },
  {
   "cell_type": "code",
   "execution_count": 21,
   "id": "fc809503-0639-4f18-a47c-2dc3ce049e36",
   "metadata": {},
   "outputs": [
    {
     "name": "stdout",
     "output_type": "stream",
     "text": [
      "----Augmenting prophase----\n",
      "done\n"
     ]
    }
   ],
   "source": [
    "#apply augmentation for non-interphase cells\n",
    "\n",
    "from skimage import io\n",
    "datagen = ImageDataGenerator(        \n",
    "            rotation_range=45,\n",
    "            width_shift_range=0.2,  \n",
    "            height_shift_range=0.2,    \n",
    "            shear_range=0.2,        \n",
    "            zoom_range=0.2,        \n",
    "            horizontal_flip=True,         \n",
    "            fill_mode='nearest')\n",
    "\n",
    "print(\"----Augmenting {}----\".format(groups[3]))\n",
    "dir_n = 'Z:/cell classifier/test_run/images/'+groups[3]\n",
    "files = list(glob.glob(dir_n+\"/*.bmp\"))\n",
    "\n",
    "for file in files:\n",
    "    x = io.imread(file)\n",
    "    x = x.reshape(1,250,250,1)\n",
    "    i = 0\n",
    "    new_p = 'Z:/cell classifier/test_run/images/prophase/'\n",
    "    pref = file.split('\\\\')[1].split('.')[0] + '_aug'\n",
    "    for batch in datagen.flow(x, batch_size=16,save_to_dir=new_p,save_prefix=pref,save_format='bmp'):\n",
    "        i += 1    \n",
    "        if i > 5:      \n",
    "            break\n",
    "print('done')"
   ]
  },
  {
   "cell_type": "code",
   "execution_count": 22,
   "id": "7a176aaa-84c1-4201-93be-b5a3ec96008d",
   "metadata": {},
   "outputs": [
    {
     "name": "stdout",
     "output_type": "stream",
     "text": [
      "369 370 391 413\n"
     ]
    }
   ],
   "source": [
    "inter = list(glob.glob('Z:/cell classifier/test_run/images/interphase'+\"/*.bmp\"))\n",
    "bad = list(glob.glob('Z:/cell classifier/test_run/images/bad'+\"/*.bmp\"))\n",
    "mphase = list(glob.glob('Z:/cell classifier/test_run/images/M phase'+\"/*.bmp\"))\n",
    "pro = list(glob.glob('Z:/cell classifier/test_run/images/prophase'+\"/*.bmp\"))\n",
    "\n",
    "print(len(inter), len(bad), len(mphase), len(pro))"
   ]
  },
  {
   "cell_type": "code",
   "execution_count": 3,
   "id": "ac674858-6266-4114-970f-da6bdc8a7c23",
   "metadata": {},
   "outputs": [
    {
     "name": "stdout",
     "output_type": "stream",
     "text": [
      "----Processing interphase----\n",
      "Files detected:\n",
      "369\n",
      "----Processing non-interphase----\n",
      "Files detected:\n",
      "231\n",
      "----All done----\n"
     ]
    }
   ],
   "source": [
    "#split test and training dataset\n",
    "\n",
    "for i, group in enumerate(groups):\n",
    "    print(\"----Processing {}----\".format(group))\n",
    "    image_dir = path + \"images/\" + group # original images\n",
    "    move_train_dir = train_dir + group # destination; training data\n",
    "    move_test_dir = test_dir + group # destination; test data\n",
    "    files = list(glob.glob(image_dir+\"/*.bmp\"))\n",
    "    print(\"Files detected:\")\n",
    "    print(len(files)) \n",
    "    \n",
    "    # 20% of data will be moved to \"test\"\n",
    "    th = math.floor(len(files)*0.2)\n",
    "    random.shuffle(files)\n",
    "    for i in range(th):\n",
    "        shutil.move(files[i],move_test_dir)\n",
    "    \n",
    "    # move rest of data to \"train\"\n",
    "    files = glob.glob(image_dir+\"/*.bmp\")\n",
    "    for file in files:\n",
    "        shutil.move(file, move_train_dir)\n",
    "\n",
    "print(\"----All done----\")"
   ]
  },
  {
   "cell_type": "code",
   "execution_count": 3,
   "id": "72aa9722-50a0-40ae-b782-48034d983bb5",
   "metadata": {},
   "outputs": [
    {
     "name": "stdout",
     "output_type": "stream",
     "text": [
      "----Processing train: interphase----\n",
      "----Processing train: non-interphase----\n",
      "Number of files generated:\n",
      "481\n",
      "----Processing test: interphase----\n",
      "----Processing test: non-interphase----\n",
      "Number of files generated:\n",
      "119\n",
      "----All done----\n"
     ]
    }
   ],
   "source": [
    "#convert to numpy array\n",
    "\n",
    "X = []\n",
    "Y = []\n",
    "for i,group in enumerate(groups):\n",
    "    image_dir = train_dir + group\n",
    "    files = glob.glob(image_dir+\"/*\")\n",
    "    print(\"----Processing train: {}----\".format(group))\n",
    "    with open('Z:/cell classifier/data/train-'+group+'.csv', 'w') as f_csv:\n",
    "        for id, file in enumerate(files):\n",
    "            img = cv2.imread(file)\n",
    "            X.append(img)\n",
    "            f_csv.write(str(file))\n",
    "            f_csv.write(\"\\n\")\n",
    "            Y.append(i) \n",
    "    \n",
    "X = np.array(X)\n",
    "Y = np.array(Y)\n",
    "np.save(export_dir+\"/x_train.npy\",X)\n",
    "np.save(export_dir+\"/y_train.npy\",Y)\n",
    "print(\"Number of files generated:\")\n",
    "print(len(Y))\n",
    "\n",
    "# run image-to-array conversion for test data\n",
    "X = []\n",
    "Y = []\n",
    "for i,group in enumerate(groups):\n",
    "    image_dir = test_dir + group\n",
    "    files = glob.glob(image_dir+\"/*\")\n",
    "    print(\"----Processing test: {}----\".format(group))\n",
    "    with open('Z:/cell classifier/data/test-'+group+'.csv', 'w') as f_csv:\n",
    "        for id, file in enumerate(files):\n",
    "            img = cv2.imread(file)\n",
    "            X.append(img)\n",
    "            f_csv.write(str(file))\n",
    "            f_csv.write(\"\\n\")\n",
    "            Y.append(i)   \n",
    "        \n",
    "X = np.array(X)\n",
    "Y = np.array(Y)\n",
    "np.save(export_dir+\"/X_test.npy\",X)\n",
    "np.save(export_dir+\"/Y_test.npy\",Y)\n",
    "print(\"Number of files generated:\")\n",
    "print(len(Y))\n",
    "print(\"----All done----\")"
   ]
  },
  {
   "cell_type": "code",
   "execution_count": 4,
   "id": "bf34a5e4-3259-4a0a-8e2f-b040dc7ca90e",
   "metadata": {},
   "outputs": [],
   "source": [
    "import numpy as np\n",
    "import pandas as pd\n",
    "import random\n",
    "import keras\n",
    "import csv\n",
    "import matplotlib.pyplot as plt\n",
    "from keras.callbacks import EarlyStopping\n",
    "from bayes_opt import BayesianOptimization\n",
    "from keras.models import Model, load_model, model_from_json\n",
    "from keras.layers import Input, Conv2D,MaxPooling2D,Dense, Flatten,Dropout\n",
    "from keras.utils import np_utils"
   ]
  },
  {
   "cell_type": "code",
   "execution_count": 5,
   "id": "d7ccba89-3bd6-41dc-aa4d-7c835e0ec664",
   "metadata": {},
   "outputs": [],
   "source": [
    "#normalize test and training set, as well as one hot encode y-test and y-train\n",
    "\n",
    "# load training and test data sets\n",
    "x_train = np.load(path+\"/data/x_train.npy\")\n",
    "y_train = np.load(path+\"/data/y_train.npy\")\n",
    "\n",
    "x_test = np.load(path +\"/data/X_test.npy\")\n",
    "y_test = np.load(path +\"/data/Y_test.npy\")\n",
    "\n",
    "# normalize\n",
    "x_train = x_train.astype('float32') #integers to floats\n",
    "x_test = x_test.astype('float32')\n",
    "x_train = x_train/255\n",
    "x_test = x_test / 255\n",
    "\n",
    "y_train = to_categorical(y_train,2)\n",
    "y_test = to_categorical(y_test,2)\n",
    "\n",
    "# shuffle sequence of data\n",
    "index=list(range(x_train.shape[0]))\n",
    "index=random.sample(index,len(index))\n",
    "x_train = x_train[index]\n",
    "y_train = y_train[index]"
   ]
  },
  {
   "cell_type": "code",
   "execution_count": 6,
   "id": "c0856dfa-ac6b-4b22-a96c-751c63244f90",
   "metadata": {},
   "outputs": [
    {
     "name": "stdout",
     "output_type": "stream",
     "text": [
      "(481, 250, 250, 3)\n"
     ]
    }
   ],
   "source": [
    "print(x_train.shape)"
   ]
  },
  {
   "cell_type": "code",
   "execution_count": 7,
   "id": "d1fd0b78-cf51-46a2-a878-11d8f1f56b1a",
   "metadata": {},
   "outputs": [],
   "source": [
    "#build model w/ cross validation\n",
    "from sklearn.preprocessing import StandardScaler\n",
    "from sklearn.model_selection import StratifiedKFold\n",
    "\n",
    "#3 block vgg model\n",
    "def model_def():\n",
    "    model = Sequential()\n",
    "    model.add(Conv2D(32, (3, 3), activation='relu', kernel_initializer='he_uniform', padding='same', input_shape=(250,250,3)))\n",
    "    model.add(Conv2D(32, (3, 3), activation='relu', kernel_initializer='he_uniform', padding='same'))\n",
    "    model.add(MaxPooling2D((2, 2)))\n",
    "    model.add(Conv2D(64, (3, 3), activation='relu', kernel_initializer='he_uniform', padding='same'))\n",
    "    model.add(Conv2D(64, (3, 3), activation='relu', kernel_initializer='he_uniform', padding='same'))\n",
    "    model.add(MaxPooling2D((2, 2)))\n",
    "    model.add(Conv2D(128, (3, 3), activation='relu', kernel_initializer='he_uniform', padding='same'))\n",
    "    model.add(Conv2D(128, (3, 3), activation='relu', kernel_initializer='he_uniform', padding='same'))\n",
    "    model.add(MaxPooling2D((2, 2)))\n",
    "    model.add(Flatten())\n",
    "    model.add(Dense(128, activation='relu', kernel_initializer='he_uniform'))\n",
    "    model.add(Dense(2, activation='sigmoid'))\n",
    "    # compile model\n",
    "    opt = SGD(learning_rate=0.001, momentum=0.9)\n",
    "    model.compile(optimizer=opt, loss='binary_crossentropy', metrics=['accuracy'])\n",
    "    return model\n",
    "\n",
    "model = model_def()"
   ]
  },
  {
   "cell_type": "code",
   "execution_count": 8,
   "id": "b0cd216c-32f1-4b8f-91a5-baaf682b0413",
   "metadata": {},
   "outputs": [
    {
     "name": "stdout",
     "output_type": "stream",
     "text": [
      "16/16 [==============================] - 49s 3s/step - loss: 0.6677 - accuracy: 0.6154\n",
      "Epoch 1/100\n",
      "5/5 [==============================] - 49s 9s/step - loss: 0.6347 - accuracy: 0.6068 - val_loss: 0.6075 - val_accuracy: 0.6701\n",
      "Epoch 2/100\n",
      "5/5 [==============================] - 48s 9s/step - loss: 0.6103 - accuracy: 0.6615 - val_loss: 0.5921 - val_accuracy: 0.8041\n",
      "Epoch 3/100\n",
      "5/5 [==============================] - 43s 8s/step - loss: 0.5935 - accuracy: 0.7370 - val_loss: 0.5677 - val_accuracy: 0.7938\n",
      "Epoch 4/100\n",
      "5/5 [==============================] - 49s 10s/step - loss: 0.5662 - accuracy: 0.7370 - val_loss: 0.5456 - val_accuracy: 0.7629\n",
      "Epoch 5/100\n",
      "5/5 [==============================] - 51s 10s/step - loss: 0.5491 - accuracy: 0.7266 - val_loss: 0.5354 - val_accuracy: 0.7629\n",
      "Epoch 6/100\n",
      "5/5 [==============================] - 53s 10s/step - loss: 0.5322 - accuracy: 0.7708 - val_loss: 0.5287 - val_accuracy: 0.7423\n",
      "Epoch 7/100\n",
      "5/5 [==============================] - 55s 11s/step - loss: 0.5243 - accuracy: 0.7474 - val_loss: 0.5277 - val_accuracy: 0.7732\n",
      "Epoch 8/100\n",
      "5/5 [==============================] - 55s 11s/step - loss: 0.5110 - accuracy: 0.7604 - val_loss: 0.5349 - val_accuracy: 0.7216\n",
      "Epoch 9/100\n",
      "5/5 [==============================] - 56s 11s/step - loss: 0.5058 - accuracy: 0.7552 - val_loss: 0.5296 - val_accuracy: 0.7629\n",
      "Epoch 10/100\n",
      "5/5 [==============================] - 56s 11s/step - loss: 0.4947 - accuracy: 0.7708 - val_loss: 0.5353 - val_accuracy: 0.7526\n",
      "Epoch 11/100\n",
      "5/5 [==============================] - 58s 11s/step - loss: 0.4856 - accuracy: 0.7760 - val_loss: 0.5404 - val_accuracy: 0.7526\n",
      "Epoch 12/100\n",
      "5/5 [==============================] - 63s 12s/step - loss: 0.4768 - accuracy: 0.7891 - val_loss: 0.5461 - val_accuracy: 0.7423\n",
      "Epoch 00012: early stopping\n",
      "4/4 [==============================] - 5s 1s/step - loss: 0.5357 - accuracy: 0.6975\n",
      "[0.5356975793838501, 0.6974790096282959]\n"
     ]
    }
   ],
   "source": [
    "#model report\n",
    "from sklearn.metrics import classification_report, accuracy_score, confusion_matrix, mean_squared_error\n",
    "model.fit(x_train, y_train)\n",
    "early_stopping = EarlyStopping(patience=5, verbose=1)\n",
    "\n",
    "# hyperparameters\n",
    "batch = 89 # batch size\n",
    "\n",
    "# learning\n",
    "hist = model.fit(x_train, y_train, validation_split=0.2, epochs=100, batch_size=batch,callbacks=[early_stopping])\n",
    "\n",
    "# evaluated accuracy for test data\n",
    "print(model.evaluate(x_test, y_test))\n"
   ]
  },
  {
   "cell_type": "code",
   "execution_count": 9,
   "id": "22582e37-9a2f-47da-bf15-b23eec495d7b",
   "metadata": {},
   "outputs": [],
   "source": [
    "predictions = model.predict(x_test)\n",
    "\n",
    "classes = np.argmax(predictions, axis =1)\n",
    "with open('Z:/cell classifier/data/test_val.csv', 'w') as f_csv:\n",
    "    for c in classes:\n",
    "        f_csv.write(str(c))\n",
    "        f_csv.write(\"\\n\")"
   ]
  },
  {
   "cell_type": "code",
   "execution_count": null,
   "id": "afe200a4-a782-4de2-a6ba-f28c74b3f168",
   "metadata": {},
   "outputs": [],
   "source": [
    "# Create StratifiedKFold object.\n",
    "skf = StratifiedKFold(n_splits=10, shuffle=True, random_state=1)\n",
    "lst_accu_stratified = []\n",
    "  \n",
    "for train_index, test_index in skf.split(x_train, y_train):\n",
    "    x_train_fold, x_test_fold = x_train[train_index], x_train[test_index]\n",
    "    y_train_fold, y_test_fold = y_train[train_index], y_train[test_index]\n",
    "    model.fit(x_train_fold, y_train_fold)\n",
    "    lst_accu_stratified.append(model.score(x_test_fold, y_test_fold))\n",
    "    \n",
    "print('\\nOverall Accuracy:', mean(lst_accu_stratified)*100, '%')"
   ]
  },
  {
   "cell_type": "code",
   "execution_count": null,
   "id": "e5a642ec-3058-4c3f-b576-8e8bba0e411b",
   "metadata": {},
   "outputs": [],
   "source": [
    "#test on a random image"
   ]
  }
 ],
 "metadata": {
  "kernelspec": {
   "display_name": "Python 3 (ipykernel)",
   "language": "python",
   "name": "python3"
  },
  "language_info": {
   "codemirror_mode": {
    "name": "ipython",
    "version": 3
   },
   "file_extension": ".py",
   "mimetype": "text/x-python",
   "name": "python",
   "nbconvert_exporter": "python",
   "pygments_lexer": "ipython3",
   "version": "3.8.6"
  }
 },
 "nbformat": 4,
 "nbformat_minor": 5
}
