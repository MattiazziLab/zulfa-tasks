{
 "cells": [
  {
   "cell_type": "code",
   "execution_count": null,
   "id": "3c279fa8-394b-48c4-8014-d73a69215014",
   "metadata": {},
   "outputs": [
    {
     "data": {
      "text/html": [
       "<div>\n",
       "<style scoped>\n",
       "    .dataframe tbody tr th:only-of-type {\n",
       "        vertical-align: middle;\n",
       "    }\n",
       "\n",
       "    .dataframe tbody tr th {\n",
       "        vertical-align: top;\n",
       "    }\n",
       "\n",
       "    .dataframe thead th {\n",
       "        text-align: right;\n",
       "    }\n",
       "</style>\n",
       "<table border=\"1\" class=\"dataframe\">\n",
       "  <thead>\n",
       "    <tr style=\"text-align: right;\">\n",
       "      <th></th>\n",
       "      <th>Cell ID</th>\n",
       "      <th>Image Path</th>\n",
       "      <th>Center X</th>\n",
       "      <th>Center Y</th>\n",
       "    </tr>\n",
       "  </thead>\n",
       "  <tbody>\n",
       "    <tr>\n",
       "      <th>0</th>\n",
       "      <td>MAX_ch3-r02c02f02</td>\n",
       "      <td>Z:\\cell classifier\\wt\\MAX_ch3-r02c02f02.tif</td>\n",
       "      <td>515.285230</td>\n",
       "      <td>301.513963</td>\n",
       "    </tr>\n",
       "    <tr>\n",
       "      <th>1</th>\n",
       "      <td>MAX_ch3-r02c02f02</td>\n",
       "      <td>Z:\\cell classifier\\wt\\MAX_ch3-r02c02f02.tif</td>\n",
       "      <td>606.633595</td>\n",
       "      <td>327.221966</td>\n",
       "    </tr>\n",
       "    <tr>\n",
       "      <th>2</th>\n",
       "      <td>MAX_ch3-r02c02f02</td>\n",
       "      <td>Z:\\cell classifier\\wt\\MAX_ch3-r02c02f02.tif</td>\n",
       "      <td>429.704727</td>\n",
       "      <td>339.004174</td>\n",
       "    </tr>\n",
       "    <tr>\n",
       "      <th>3</th>\n",
       "      <td>MAX_ch3-r02c02f02</td>\n",
       "      <td>Z:\\cell classifier\\wt\\MAX_ch3-r02c02f02.tif</td>\n",
       "      <td>669.988622</td>\n",
       "      <td>373.725686</td>\n",
       "    </tr>\n",
       "    <tr>\n",
       "      <th>4</th>\n",
       "      <td>MAX_ch3-r02c02f02</td>\n",
       "      <td>Z:\\cell classifier\\wt\\MAX_ch3-r02c02f02.tif</td>\n",
       "      <td>601.074673</td>\n",
       "      <td>414.559775</td>\n",
       "    </tr>\n",
       "  </tbody>\n",
       "</table>\n",
       "</div>"
      ],
      "text/plain": [
       "             Cell ID                                   Image Path    Center X  \\\n",
       "0  MAX_ch3-r02c02f02  Z:\\cell classifier\\wt\\MAX_ch3-r02c02f02.tif  515.285230   \n",
       "1  MAX_ch3-r02c02f02  Z:\\cell classifier\\wt\\MAX_ch3-r02c02f02.tif  606.633595   \n",
       "2  MAX_ch3-r02c02f02  Z:\\cell classifier\\wt\\MAX_ch3-r02c02f02.tif  429.704727   \n",
       "3  MAX_ch3-r02c02f02  Z:\\cell classifier\\wt\\MAX_ch3-r02c02f02.tif  669.988622   \n",
       "4  MAX_ch3-r02c02f02  Z:\\cell classifier\\wt\\MAX_ch3-r02c02f02.tif  601.074673   \n",
       "\n",
       "     Center Y  \n",
       "0  301.513963  \n",
       "1  327.221966  \n",
       "2  339.004174  \n",
       "3  373.725686  \n",
       "4  414.559775  "
      ]
     },
     "execution_count": 1,
     "metadata": {},
     "output_type": "execute_result"
    }
   ],
   "source": [
    "from PIL import Image\n",
    "import matplotlib.pyplot as plt\n",
    "import numpy as np\n",
    "import pandas as pd\n",
    "\n",
    "#open csv file with image path and xy coordinates\n",
    "data = pd.read_csv('Z:\\cell classifier\\mutant_cropped\\B10\\B10_file_to_crop.csv')\n",
    "\n",
    "data.head()"
   ]
  },
  {
   "cell_type": "code",
   "execution_count": null,
   "id": "628bd09e-d962-4a2a-94f2-e29372702b16",
   "metadata": {},
   "outputs": [],
   "source": [
    "#path to store the cropped images\n",
    "store_path = 'Z:/cell classifier/mutant_cropped/B10/'"
   ]
  },
  {
   "cell_type": "code",
   "execution_count": null,
   "id": "359eb23c-1956-4847-8e95-edb3861a7248",
   "metadata": {},
   "outputs": [
    {
     "ename": "TypeError",
     "evalue": "writerow() takes exactly one argument (2 given)",
     "output_type": "error",
     "traceback": [
      "\u001b[1;31m---------------------------------------------------------------------------\u001b[0m",
      "\u001b[1;31mTypeError\u001b[0m                                 Traceback (most recent call last)",
      "\u001b[1;32m~\\AppData\\Local\\Temp/ipykernel_14040/2880860966.py\u001b[0m in \u001b[0;36m<module>\u001b[1;34m\u001b[0m\n\u001b[0;32m     14\u001b[0m         \u001b[0mim_cropped\u001b[0m \u001b[1;33m=\u001b[0m \u001b[0mim\u001b[0m\u001b[1;33m.\u001b[0m\u001b[0mcrop\u001b[0m\u001b[1;33m(\u001b[0m\u001b[1;33m(\u001b[0m\u001b[0mleft\u001b[0m\u001b[1;33m,\u001b[0m \u001b[0mtop\u001b[0m\u001b[1;33m,\u001b[0m \u001b[0mright\u001b[0m\u001b[1;33m,\u001b[0m \u001b[0mbottom\u001b[0m\u001b[1;33m)\u001b[0m\u001b[1;33m)\u001b[0m\u001b[1;33m\u001b[0m\u001b[1;33m\u001b[0m\u001b[0m\n\u001b[0;32m     15\u001b[0m         \u001b[0mim_cropped\u001b[0m\u001b[1;33m.\u001b[0m\u001b[0msave\u001b[0m\u001b[1;33m(\u001b[0m\u001b[0mstore_path\u001b[0m\u001b[1;33m+\u001b[0m\u001b[0mdata\u001b[0m\u001b[1;33m[\u001b[0m\u001b[1;34m'Cell ID'\u001b[0m\u001b[1;33m]\u001b[0m\u001b[1;33m[\u001b[0m\u001b[0mi\u001b[0m\u001b[1;33m]\u001b[0m\u001b[1;33m+\u001b[0m\u001b[1;34m\"_\"\u001b[0m\u001b[1;33m+\u001b[0m\u001b[0mstr\u001b[0m\u001b[1;33m(\u001b[0m\u001b[0mi\u001b[0m\u001b[1;33m)\u001b[0m\u001b[1;33m+\u001b[0m\u001b[1;34m\".tif\"\u001b[0m\u001b[1;33m,\u001b[0m \u001b[1;34m\"tiff\"\u001b[0m\u001b[1;33m)\u001b[0m\u001b[1;33m\u001b[0m\u001b[1;33m\u001b[0m\u001b[0m\n\u001b[1;32m---> 16\u001b[1;33m         \u001b[0mwriter\u001b[0m\u001b[1;33m.\u001b[0m\u001b[0mwriterow\u001b[0m\u001b[1;33m(\u001b[0m\u001b[0mstr\u001b[0m\u001b[1;33m(\u001b[0m\u001b[0mi\u001b[0m\u001b[1;33m)\u001b[0m\u001b[1;33m,\u001b[0m \u001b[0mstr\u001b[0m\u001b[1;33m(\u001b[0m\u001b[0mstore_path\u001b[0m\u001b[1;33m+\u001b[0m\u001b[0mdata\u001b[0m\u001b[1;33m[\u001b[0m\u001b[1;34m'Cell ID'\u001b[0m\u001b[1;33m]\u001b[0m\u001b[1;33m[\u001b[0m\u001b[0mi\u001b[0m\u001b[1;33m]\u001b[0m\u001b[1;33m+\u001b[0m\u001b[1;34m\"_\"\u001b[0m\u001b[1;33m+\u001b[0m\u001b[0mstr\u001b[0m\u001b[1;33m(\u001b[0m\u001b[0mi\u001b[0m\u001b[1;33m)\u001b[0m\u001b[1;33m+\u001b[0m\u001b[1;34m\".tif\"\u001b[0m\u001b[1;33m)\u001b[0m\u001b[1;33m)\u001b[0m\u001b[1;33m\u001b[0m\u001b[1;33m\u001b[0m\u001b[0m\n\u001b[0m\u001b[0;32m     17\u001b[0m \u001b[1;33m\u001b[0m\u001b[0m\n\u001b[0;32m     18\u001b[0m \u001b[0mprint\u001b[0m\u001b[1;33m(\u001b[0m\u001b[1;34m'Saved!'\u001b[0m\u001b[1;33m)\u001b[0m\u001b[1;33m\u001b[0m\u001b[1;33m\u001b[0m\u001b[0m\n",
      "\u001b[1;31mTypeError\u001b[0m: writerow() takes exactly one argument (2 given)"
     ]
    }
   ],
   "source": [
    "for i in range(0, len(data.index)):\n",
    "    im = Image.open(data['Image Path'][i])\n",
    "    x = data['Center X'][i]\n",
    "    y = data['Center Y'][i]\n",
    "    \n",
    "    left = x - 250/2\n",
    "    top = y - 250/2\n",
    "    right = x + 250/2\n",
    "    bottom = y + 250/2\n",
    "    im_cropped = im.crop((left, top, right, bottom))\n",
    "    im_cropped.save(store_path+data['Cell ID'][i]+\"_\"+str(i)+\".tif\", \"tiff\")\n",
    "print('Saved!')"
   ]
  },
  {
   "cell_type": "code",
   "execution_count": null,
   "id": "59bd4208-13f1-4cc5-94f7-df1639cdebec",
   "metadata": {},
   "outputs": [],
   "source": []
  },
  {
   "cell_type": "code",
   "execution_count": 22,
   "id": "63b09fd2-c76d-441c-a829-3e01cb892f9e",
   "metadata": {},
   "outputs": [
    {
     "name": "stdout",
     "output_type": "stream",
     "text": [
      "------All done------\n"
     ]
    }
   ],
   "source": [
    "#change 16 bit to 8 bit\n",
    "\n",
    "import imageio\n",
    "import glob\n",
    "\n",
    "path1 = \"Z:/cell classifier/wt_cropped/B10/\"# path, import\n",
    "path2 = \"Z:/cell classifier/wt_contrasted/B10/\"# path, export\n",
    "\n",
    "def Tiff_to_BMP(file,filename,path2):\n",
    "    image = imageio.imread(file)\n",
    "\n",
    "    # Rescale 16-bit to 8-bit\n",
    "    image = image / 256\n",
    "    image=image.astype(\"int\") # change type to integer\n",
    "    image = image.astype('uint8')\n",
    "\n",
    "    imageio.imwrite(path2+\"B10_\"+filename+\".bmp\",image)\n",
    "    \n",
    "if(path1[-1]==\"/\"):\n",
    "    path1=path1[:-1]\n",
    "for file in glob.glob(path1+\"/*.tif\"):\n",
    "    idx = file.rfind(\"\\\\\") # use \"\\\\\" for windows or \"/\" for mac\n",
    "    filename = file[idx+1:-4]\n",
    "    #print(\"------Processing {}------\".format(filename))\n",
    "    Tiff_to_BMP(file,filename,path2)\n",
    "print(\"------All done------\")"
   ]
  },
  {
   "cell_type": "code",
   "execution_count": null,
   "id": "42119892-28be-4dec-bd37-d080f9482fd6",
   "metadata": {},
   "outputs": [],
   "source": []
  },
  {
   "cell_type": "code",
   "execution_count": 23,
   "id": "9c006b6d-b9cf-4882-a576-d71a970a7362",
   "metadata": {},
   "outputs": [
    {
     "name": "stdout",
     "output_type": "stream",
     "text": [
      "------All done------\n"
     ]
    }
   ],
   "source": [
    "#edit images to make them brighter\n",
    "\n",
    "from PIL import Image, ImageEnhance\n",
    "import glob\n",
    "\n",
    "path1 = \"Z:/cell classifier/wt_contrasted/B10/\"\n",
    "path2 = \"Z:/cell classifier/wt_contrasted/\"\n",
    "\n",
    "def bright_im(file, filename, path):\n",
    "    im = Image.open(file)\n",
    "\n",
    "    #image brightness enhancer\n",
    "    enhancer = ImageEnhance.Contrast(im)\n",
    "\n",
    "    factor = 4.0 #increase contrast\n",
    "    im_output = enhancer.enhance(factor)\n",
    "    im_output.save(path2+filename+\".bmp\")\n",
    "    \n",
    "if(path1[-1]==\"/\"):\n",
    "    path1=path1[:-1]\n",
    "for file in glob.glob(path1+\"/*.bmp\"):\n",
    "    idx = file.rfind(\"\\\\\") # use \"\\\\\" for windows or \"/\" for mac\n",
    "    filename = file[idx+1:-4]\n",
    "    #print(\"------Processing {}------\".format(filename))\n",
    "    bright_im(file,filename,path2)\n",
    "print(\"------All done------\")"
   ]
  },
  {
   "cell_type": "code",
   "execution_count": null,
   "id": "9d6ac06e-e6c2-4e28-be83-554aaf2a3dc8",
   "metadata": {},
   "outputs": [],
   "source": []
  },
  {
   "cell_type": "code",
   "execution_count": 10,
   "id": "b32c06f4-e692-4ab6-b7d4-a814f5ece7a5",
   "metadata": {},
   "outputs": [
    {
     "data": {
      "text/html": [
       "<div>\n",
       "<style scoped>\n",
       "    .dataframe tbody tr th:only-of-type {\n",
       "        vertical-align: middle;\n",
       "    }\n",
       "\n",
       "    .dataframe tbody tr th {\n",
       "        vertical-align: top;\n",
       "    }\n",
       "\n",
       "    .dataframe thead th {\n",
       "        text-align: right;\n",
       "    }\n",
       "</style>\n",
       "<table border=\"1\" class=\"dataframe\">\n",
       "  <thead>\n",
       "    <tr style=\"text-align: right;\">\n",
       "      <th></th>\n",
       "      <th>Image Path</th>\n",
       "      <th>Initial Label</th>\n",
       "    </tr>\n",
       "  </thead>\n",
       "  <tbody>\n",
       "    <tr>\n",
       "      <th>0</th>\n",
       "      <td>Z:/cell classifier/wt_contrasted/B1_MAX_ch3-r0...</td>\n",
       "      <td>not G2</td>\n",
       "    </tr>\n",
       "    <tr>\n",
       "      <th>1</th>\n",
       "      <td>Z:/cell classifier/wt_contrasted/B1_MAX_ch3-r0...</td>\n",
       "      <td>not G2</td>\n",
       "    </tr>\n",
       "    <tr>\n",
       "      <th>2</th>\n",
       "      <td>Z:/cell classifier/wt_contrasted/B1_MAX_ch3-r0...</td>\n",
       "      <td>not G2</td>\n",
       "    </tr>\n",
       "    <tr>\n",
       "      <th>3</th>\n",
       "      <td>Z:/cell classifier/wt_contrasted/B1_MAX_ch3-r0...</td>\n",
       "      <td>not G2</td>\n",
       "    </tr>\n",
       "    <tr>\n",
       "      <th>4</th>\n",
       "      <td>Z:/cell classifier/wt_contrasted/B1_MAX_ch3-r0...</td>\n",
       "      <td>not G2</td>\n",
       "    </tr>\n",
       "  </tbody>\n",
       "</table>\n",
       "</div>"
      ],
      "text/plain": [
       "                                          Image Path Initial Label\n",
       "0  Z:/cell classifier/wt_contrasted/B1_MAX_ch3-r0...        not G2\n",
       "1  Z:/cell classifier/wt_contrasted/B1_MAX_ch3-r0...        not G2\n",
       "2  Z:/cell classifier/wt_contrasted/B1_MAX_ch3-r0...        not G2\n",
       "3  Z:/cell classifier/wt_contrasted/B1_MAX_ch3-r0...        not G2\n",
       "4  Z:/cell classifier/wt_contrasted/B1_MAX_ch3-r0...        not G2"
      ]
     },
     "execution_count": 10,
     "metadata": {},
     "output_type": "execute_result"
    }
   ],
   "source": [
    "#taking images from one folder and making a copy to move to another folder\n",
    "import shutil\n",
    "import numpy as np\n",
    "import pandas as pd\n",
    "\n",
    "#open csv file with image path and xy coordinates\n",
    "data = pd.read_csv('Z:/cell classifier/wt_all/not G2/wt_notG2_full.csv')\n",
    "\n",
    "data.head()"
   ]
  },
  {
   "cell_type": "code",
   "execution_count": 11,
   "id": "f9014bfc-6d0b-4fb1-b11e-79850209e116",
   "metadata": {},
   "outputs": [
    {
     "name": "stdout",
     "output_type": "stream",
     "text": [
      "66\n"
     ]
    }
   ],
   "source": [
    "for i in range(0, len(data.index)):\n",
    "    name = data['Image Path'][i].split('/')[3]\n",
    "    new = 'Z:\\cell classifier\\wildtype_notLabelled\\\\'+ name\n",
    "print(len(new))"
   ]
  },
  {
   "cell_type": "code",
   "execution_count": 12,
   "id": "5ca9aa43-d591-402a-be4a-c872f2b2894f",
   "metadata": {},
   "outputs": [
    {
     "name": "stdout",
     "output_type": "stream",
     "text": [
      "B1_MAX_ch3-r03c02f04_120.bmp\n"
     ]
    }
   ],
   "source": [
    "print(data['Image Path'][66].split('/')[3])"
   ]
  },
  {
   "cell_type": "code",
   "execution_count": 13,
   "id": "0996ac6a-1e07-4cab-b35b-5967597cf6c0",
   "metadata": {},
   "outputs": [
    {
     "name": "stdout",
     "output_type": "stream",
     "text": [
      "Saved!\n"
     ]
    }
   ],
   "source": [
    "for i in range(0, len(data.index)):\n",
    "    im = data['Image Path'][i]\n",
    "    name = data['Image Path'][i].split('/')[3]\n",
    "    new = 'Z:\\cell classifier\\wildtype_notLabelled\\\\'+ name\n",
    "    shutil.move(im, new)\n",
    "print('Saved!')"
   ]
  },
  {
   "cell_type": "code",
   "execution_count": null,
   "id": "96708403-4726-43af-86a3-83c76db51ea6",
   "metadata": {},
   "outputs": [],
   "source": []
  }
 ],
 "metadata": {
  "kernelspec": {
   "display_name": "Python 3 (ipykernel)",
   "language": "python",
   "name": "python3"
  },
  "language_info": {
   "codemirror_mode": {
    "name": "ipython",
    "version": 3
   },
   "file_extension": ".py",
   "mimetype": "text/x-python",
   "name": "python",
   "nbconvert_exporter": "python",
   "pygments_lexer": "ipython3",
   "version": "3.8.6"
  }
 },
 "nbformat": 4,
 "nbformat_minor": 5
}
